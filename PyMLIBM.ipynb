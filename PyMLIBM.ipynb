{
 "cells": [
  {
   "cell_type": "markdown",
   "id": "39aa0227-a233-44f5-a992-f85d5e8d4c75",
   "metadata": {},
   "source": [
    "# Machine Llearning with Python:"
   ]
  },
  {
   "cell_type": "markdown",
   "id": "c109cd1d-098a-46e3-a218-e762ab5d77f2",
   "metadata": {},
   "source": [
    "## Introduction to Machine Learning:"
   ]
  },
  {
   "cell_type": "markdown",
   "id": "1e31579b-ec3d-4898-a1e0-e99950f533c9",
   "metadata": {},
   "source": [
    "### Fundamentals of Machine Learning:\n",
    "* Apps of ML:\n",
    "* Stock Market Trading\n",
    "* Medical diagnosis\n",
    "\n",
    "#### Course:\n",
    "* Mdl 1: Intro & Regression\n",
    "* Mdl 2: Classification\n",
    "* Mdl 3: Clustering\n",
    "* Mdl 4: Final Proj.\n",
    "\n",
    "#### Libraries:\n",
    "* `pandas`\n",
    "* `numpy`\n",
    "* `sklearn`\n",
    "\n",
    "#### ML Algos:\n",
    "* Regression:\n",
    "    * Simple\n",
    "    * Multiple\n",
    "    * Regression Trees\n",
    "    \n",
    "* Classification:\n",
    "    * LogReg\n",
    "    * KNN\n",
    "    * SVM: Support Vector Machines\n",
    "    * Multiclass Prediction\n",
    "    * Decision Trees\n",
    "    \n",
    "* Clustering:\n",
    "    * K-means"
   ]
  },
  {
   "cell_type": "code",
   "execution_count": 1,
   "id": "7c683ae5-4a5d-487a-8112-0819115488a2",
   "metadata": {
    "tags": []
   },
   "outputs": [],
   "source": [
    "import numpy as np\n",
    "import pandas as pd\n",
    "import matplotlib as mpl\n",
    "import matplotlib.pyplot as plt\n",
    "import seaborn as sns\n",
    "import sklearn\n",
    "import warnings"
   ]
  },
  {
   "cell_type": "code",
   "execution_count": 2,
   "id": "e2e89eaa-ef61-45ff-802b-401a76320e9a",
   "metadata": {
    "tags": []
   },
   "outputs": [],
   "source": [
    "mpl.style.use('ggplot')\n",
    "warnings.filterwarnings('ignore')"
   ]
  },
  {
   "cell_type": "code",
   "execution_count": null,
   "id": "9732318d-32bb-443f-8a55-d34a9917f9e0",
   "metadata": {},
   "outputs": [],
   "source": []
  },
  {
   "cell_type": "markdown",
   "id": "9e9baf01-d6bd-45b9-87f1-520b6150cd8a",
   "metadata": {},
   "source": [
    "### Introduction to ML:\n",
    "#### ML Workflow:\n",
    "* Clean your data\n",
    "* Select a proper Algo\n",
    "* Train your model\n",
    "* Predict / Implement\n",
    "\n",
    "#### Major ML techs:\n",
    "* Regression/ Estimation:\n",
    "    * Predicting continuous values\n",
    "* ClassificationL\n",
    "    * Predicting an item category/class\n",
    "* Clustering:\n",
    "    * FInding the structure of data; summarization\n",
    "* Associations:\n",
    "    * Associating co-occuring items/events\n",
    "* Anomaly detection:\n",
    "    * Discovering abnormal and unusual cases\n",
    "* Sequence mining:\n",
    "    * Predicting next events; cick-stream (Markov Model HMM)\n",
    "* Dimension Reduction:\n",
    "    * Reducing the size of data (PCA)\n",
    "* Recommendation Systems:\n",
    "    * Recommending items\n",
    "    \n",
    "#### Diffs btn AI, ML and DL:\n",
    "* AI Components:\n",
    "    * Computer Vision\n",
    "    * Language Processing\n",
    "    * Creativity\n",
    "    * ..etc.\n",
    "    \n",
    "* ML Components:\n",
    "    * Reg\n",
    "    * Class.\n",
    "    * Clust.\n",
    "    * Neural NW\n",
    "    * Etc.\n",
    "\n",
    "* Revolution in ML:\n",
    "    * DL"
   ]
  },
  {
   "cell_type": "markdown",
   "id": "deec6c6e-2a10-499d-a5f0-cbe955b76708",
   "metadata": {},
   "source": [
    "## Python for ML:"
   ]
  },
  {
   "cell_type": "markdown",
   "id": "5a723994-b6a1-4d86-9a6b-5ff67a8ec2a9",
   "metadata": {},
   "source": [
    "### Python Libs and Modules for ML:\n",
    "* Python is a general purpose programming language\n",
    "\n",
    "#### Libraries for ML:\n",
    "* Numpy:\n",
    "    * math libs\n",
    "    * for array/dicts/data types/functions computations\n",
    "    * working with images\n",
    "    \n",
    "* SciPy:\n",
    "    * Numerical algorithms and domain specific tools\n",
    "    * Signal processing\n",
    "    * Statistics\n",
    "    * Scientific and high performance computations\n",
    "    * etc.\n",
    "    \n",
    "* matplotlib:\n",
    "    * for plotting\n",
    "    \n",
    "* pandas:\n",
    "    * high level py lib\n",
    "    * many fucntions for data importing, manipulation, and analysis\n",
    "\n",
    "* sklearn:\n",
    "    * collection of algorithms and tools for ML\n",
    "    \n",
    "    \n",
    "#### sklearn:\n",
    "* free\n",
    "* classification, regression, clustering algos\n",
    "* works with numpy and scipy\n",
    "* great documentaion\n",
    "* easy to implement:\n",
    "    * Data Preprocessing\n",
    "    * Train/Test Split\n",
    "    * Algorith Setup (Training)\n",
    "    * Model Fitting (Learning)\n",
    "    * Prediction (Operation)\n",
    "    * Evaluation (Following Up)\n",
    "    * Model Export  (Implementation)\n",
    "\n",
    "#### sklearn functions:\n",
    "* The next chunk of code is to transform your numeric independent data into a more hemogenuous data, dealing with outliers and other issue, this is called preprocessing\n",
    "* sklearn has a library called `preprocessing`\n",
    "\n",
    "`from sklearn import preprocessing`\n",
    "\n",
    "`X = preprocessing.StandardScaler().fit(X).transform(X)`\n",
    "\n",
    "#### Data types in ML:\n",
    "* Most used is numeric\n",
    "* Second most used is categorical"
   ]
  },
  {
   "cell_type": "code",
   "execution_count": null,
   "id": "53a7b491-5912-4532-a797-134555b91253",
   "metadata": {},
   "outputs": [],
   "source": []
  },
  {
   "cell_type": "markdown",
   "id": "7214156f-b540-405f-928c-e2b78aa38a67",
   "metadata": {},
   "source": [
    "## Introduction to Regression:\n",
    "* Independent Variable(s) --> **X**\n",
    "* Dependent Variable (only one) --> **Y**\n",
    "* **Y's** should always be continuous\n",
    "* We use historical data for model training and fitting, and then predicting future data\n",
    "* "
   ]
  },
  {
   "cell_type": "code",
   "execution_count": null,
   "id": "26c7297b-23c2-42c4-9ad0-e4cf166b46de",
   "metadata": {},
   "outputs": [],
   "source": []
  }
 ],
 "metadata": {
  "kernelspec": {
   "display_name": "Python 3 (ipykernel)",
   "language": "python",
   "name": "python3"
  },
  "language_info": {
   "codemirror_mode": {
    "name": "ipython",
    "version": 3
   },
   "file_extension": ".py",
   "mimetype": "text/x-python",
   "name": "python",
   "nbconvert_exporter": "python",
   "pygments_lexer": "ipython3",
   "version": "3.11.0"
  }
 },
 "nbformat": 4,
 "nbformat_minor": 5
}
