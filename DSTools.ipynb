{
 "cells": [
  {
   "cell_type": "markdown",
   "id": "4f224f9b-c0bd-43f6-9801-53ca8d918fac",
   "metadata": {},
   "source": [
    "# Course 2. Tools for Data Science:"
   ]
  },
  {
   "cell_type": "markdown",
   "id": "12b316f7-9c65-4043-aad8-3e8d39dde908",
   "metadata": {},
   "source": [
    "## Week 1. Data Scientist's Toolkit:\n",
    ">In this module, you will get an overview of the programming languages commonly used, including Python, R, Scala, and SQL. You’ll be introduced to the open source and commercial data science tools available. You’ll also learn about the packages, APIs, data sets and models frequently used by Data Scientists."
   ]
  },
  {
   "cell_type": "markdown",
   "id": "a691092d-86e5-4253-a4cb-7f248368c3a5",
   "metadata": {},
   "source": [
    "### Key Points:\n",
    "* Programming\n",
    "* Automation\n",
    "* Visuals and Modeling\n",
    "* Open Source Tools\n",
    "* Commercial Tools\n",
    "* Cloud Computing (IBM Cloud)"
   ]
  },
  {
   "cell_type": "markdown",
   "id": "d3f1f2b7-6836-407a-996f-05515ee45a43",
   "metadata": {},
   "source": [
    "### Languages of Data Science:\n",
    "* python\n",
    "* R\n",
    "* SQL\n",
    "* The language to use depends on the applications\n",
    "\n",
    "#### Roles in DS:\n",
    "* Business Analyst\n",
    "* DB Engineer\n",
    "* Data Analyst\n",
    "* Data Engineer\n",
    "* etc.\n",
    "\n",
    "#### Focus:\n",
    "* Python\n",
    "* R\n",
    "* SQL\n",
    "* Other Notable DS Lingos"
   ]
  },
  {
   "cell_type": "code",
   "execution_count": null,
   "id": "3e4ac329-3732-4e43-82e5-349fb5124603",
   "metadata": {},
   "outputs": [],
   "source": []
  },
  {
   "cell_type": "markdown",
   "id": "b3d814ff-0d89-42d4-9d82-79ed243310fd",
   "metadata": {},
   "source": [
    "### Introduction to Python:\n",
    "* Powerhouse lingo"
   ]
  },
  {
   "cell_type": "markdown",
   "id": "a208082b-3762-42eb-92df-733277492df7",
   "metadata": {},
   "source": [
    "### Intro R:\n",
    "* Well known for academia and commercial"
   ]
  },
  {
   "cell_type": "markdown",
   "id": "efbb80bc-68f4-4e58-805f-1b61f7a89503",
   "metadata": {},
   "source": [
    "### Intro to SQL:\n",
    "* a Must for Data Engineers"
   ]
  },
  {
   "cell_type": "markdown",
   "id": "57e637b7-47b1-46d7-b30d-cf08eafdaa09",
   "metadata": {},
   "source": [
    "### Other Lingos:\n",
    "#### Java:\n",
    "* general purpose OOPL\n",
    "* Weka for data mining\n",
    "* Java-ML for Machine Learning\n",
    "* Apache MLlib (Scalable ML)\n",
    "* Deeplearning4j\n",
    "* Apache Hadoop, for big data clustered systems\n",
    "\n",
    "#### Scala:\n",
    "* runs on JVM java virtual machine\n",
    "* Apache Spark\n",
    "    * Unified Analytics engine for big data processing\n",
    "    * with Built-in modules for streaming, SQL, ML, and Graph Processing\n",
    "    * Spark, MLlib, GraphX, and Spark Streaming\n",
    "    * Faster than Hadoop\n",
    "\n",
    "#### C++:\n",
    "* TensorFlow is a deep learning lib built for python in C++\n",
    "* MongoDB was built in C++\n",
    "* Caffe built in C++ \n",
    "\n",
    "#### JS:\n",
    "* TensorFlow.js makes ML and DL possible in Node.js and in the browser\n",
    "    * Adopted by other open source libs including brain.js and machinelearn.js.\n",
    "* R-js:\n",
    "    * Makes Linear Algebra possibl in Typescript\n",
    "    * Written in R\n",
    "\n",
    "#### Julia:\n",
    "* JuliaDB"
   ]
  },
  {
   "cell_type": "markdown",
   "id": "5dffd8e0-5187-4ffa-9b4a-0850afae8910",
   "metadata": {},
   "source": [
    "### Categories of DS Tools:\n",
    "#### Data Management:\n",
    "* Process of persisting and retrieving data\n",
    "#### Data Integration and Transformation:\n",
    "* ELT \n",
    "* The process of retrieving data from remote data management sysems\n",
    "#### Data Visualization:\n",
    "* Process for the final deliverable\n",
    "#### Model Building:\n",
    "* Process of creating a ML or DL model using an appropriate algorithm\n",
    "#### Model Deployment:\n",
    "* Make a ML or DL model available to 3rd party application.\n",
    "#### Model Monitoring and Assessment:\n",
    "* Quality checks \n",
    "#### Code asset management:\n",
    "* Goes all the way along the process\n",
    "* Versioning and other collaborative features to facilitate teamwork"
   ]
  },
  {
   "cell_type": "markdown",
   "id": "9ee59f17-50d3-41db-8662-0caaa166c4d8",
   "metadata": {},
   "source": [
    "### Open Source Tools for DS:\n",
    "#### Data Mangement:\n",
    "* MySQL\n",
    "* PostegreSQL\n",
    "* MongoDB\n",
    "* CouchDB\n",
    "* Hadoop\n",
    "* ceph\n",
    "\n",
    "#### Data Integration and Transformation:\n",
    "* Apache Airflow\n",
    "* Kubeflow\n",
    "* Apache kafka\n",
    "* node-red, runs on rasberry pie\n",
    "\n",
    "#### Data Viz:\n",
    "* Hue, creates viz from SQL queries\n",
    "* kibana\n",
    "\n",
    "#### Model Deployment:\n",
    "* Apache PredictionIO\n",
    "* SELDON\n",
    "* mleap\n",
    "* TensorFlow\n",
    "* TensorFlow lite for mobils apps and RasberryPie\n",
    "* TensorFlow.js for web apps\n",
    "\n",
    "#### Model Monitoring:\n",
    "* make sure your model isn't biased\n",
    "* ModelDB\n",
    "* Prometheus\n",
    "* IBM AI Fairness Source Toolkit\n",
    "* IBM Explainability 360 toolkit\n",
    "\n",
    "#### Code Asset Managemment:\n",
    "* git\n",
    "* github\n",
    "* gitlab\n",
    "* bitbucket\n",
    "\n",
    "#### Data Asset Management:\n",
    "* Apache Atlas\n",
    "\n",
    "#### Development Environment:\n",
    "* jupyter notebook\n",
    "* jupyter-lab\n",
    "* RStudio\n",
    "* Spyder\n",
    "##### Cluster Environment\n",
    "* Apache Spark:\n",
    "    * batch data processing engine \n",
    "    * capable of processing huge amounts of data file by file \n",
    "* Apache Flink\n",
    "    * Stream Processing Image\n",
    "    * Main focus in processing real time data streams\n",
    "\n",
    "#### Fully Integrated Visual Tools:\n",
    "* KNIME\n",
    "* Orange"
   ]
  },
  {
   "cell_type": "markdown",
   "id": "2989d570-e079-4d7e-b016-846976483e3f",
   "metadata": {},
   "source": [
    "### Commercial Tools for DS:\n",
    "#### Data Management:\n",
    "* Oracle DB\n",
    "* SQL Srever \n",
    "* IBM DB2\n",
    "\n",
    "#### Data Integration and Transformation:\n",
    "* Informatica\n",
    "* IBM InfoSphere DataStage\n",
    "* talend\n",
    "* SAP\n",
    "* Watson Studio Desktop\n",
    "\n",
    "#### Data Viz:\n",
    "* Power BI\n",
    "* Tableau\n",
    "* IBM Cognos Analytics\n",
    "* Watson\n",
    "#### Model Building:\n",
    "* SPSS\n",
    "* SAS entrprise minser\n",
    "* Watson\n",
    "\n",
    "#### Model Deployment:\n",
    "* IBM SPSS Collaboration and Deployment Services\n",
    "\n",
    "#### Model Monitoring:\n",
    "* Open Source is much better such as git\n",
    "\n",
    "#### Data Asset Management:\n",
    "* Informatica\n",
    "* IBM InfoSphere Information Governance Catalog\n",
    "\n",
    "#### Fully Integrated Development Environment:\n",
    "* IBM Watson Studio Desktop\n",
    "* H2O.ai"
   ]
  },
  {
   "cell_type": "markdown",
   "id": "66db6299-8b02-4179-8075-0925254a1563",
   "metadata": {},
   "source": [
    "### Cloud Based Tools for DS:\n",
    "\n",
    "#### Full Development Platform:\n",
    "* Watson Studio with Watson OpenScale:\n",
    "    * Covers the complete development life cycle for all DS, ML and AI tasks\n",
    "* Azure\n",
    "* H2O.ai\n",
    "\n",
    "#### Data Mangement:\n",
    "* SaaS, *Software as a Server*, versions of open source and commercial tools\n",
    "* AWS DynamoDBCouchDB\n",
    "* Cloudant, works on JSON and ApacheCouchDB\n",
    "* IBM Db2\n",
    "\n",
    "#### Data Integration Tools:\n",
    "* Informatica \n",
    "* IBM Data Refinary\n",
    "\n",
    "#### Data Visualization:\n",
    "* Datameer\n",
    "* IBM Cognos Analytics\n",
    "* Watson Studio\n",
    "\n",
    "#### Model Building:\n",
    "* IBM Watson Machine Learning\n",
    "* Google Cloud\n",
    "\n",
    "#### Model Deployment:\n",
    "* SPSS\n",
    "* IBM Watson Machine Learning\n",
    "* AWS SageMaker Model MOnitor\n"
   ]
  },
  {
   "cell_type": "code",
   "execution_count": null,
   "id": "2c77d0de-8b36-4696-ad95-64ccae4f759d",
   "metadata": {},
   "outputs": [],
   "source": []
  },
  {
   "cell_type": "markdown",
   "id": "20c72c94-38ff-4bcb-82b0-9675aad53667",
   "metadata": {},
   "source": [
    "### Libraries for DS:\n",
    "#### Focus on Python:\n",
    "* Scientific Computing Libs in py\n",
    "* Viz libs in py\n",
    "* HiLev ML and DL \n",
    "* DL libs in py\n",
    "\n",
    "#### Libs and other frameworks used in other lingos\n",
    "\n",
    "#### Scientific Computing Libs in py:\n",
    "* Pandas\n",
    "* NumPy\n",
    "\n",
    "#### Viz:\n",
    "* Matplotlib\n",
    "* Seaborn\n",
    "\n",
    "#### HiLev ML and DL:\n",
    "* sklearn\n",
    "* Keras for DL and Neural Networks\n",
    "\n",
    "#### DL libs in py:\n",
    "* TesnsorFlow, is a LoLev\n",
    "* PyTorch, DL for Experimentation\n",
    "* ApacheSpark\n",
    "\n",
    "#### Libs and other frameworks used in other lingos\n",
    "* Scala Libs:\n",
    "    * VEGAS\n",
    "    * BigDL\n",
    "* R Libraries:\n",
    "    * ggplot2\n",
    "    * Keras\n",
    "    * TensorFlow"
   ]
  },
  {
   "cell_type": "markdown",
   "id": "3179aaa4-7c02-4725-b72c-8143614dba16",
   "metadata": {},
   "source": [
    "### APIs:\n",
    "* lets two pieces of software interact\n",
    "* inputs + outputs\n",
    "* pandas is an example of an API\n",
    "* The API is simply the INTERFACE\n",
    "\n",
    "#### REST APIs:\n",
    "* REpresentaional State Transfer API\n",
    "* Client communicates with web services \n",
    "* Set of rules regarding:\n",
    "    * Communications\n",
    "    * Input, wich is, Request\n",
    "    * Output, which is, Response\n",
    "    \n",
    "* You are the client\n",
    "* The webservice is the Resource\n",
    "* You make a data request (input)\n",
    "* You get data response (output)\n",
    "\n"
   ]
  },
  {
   "cell_type": "markdown",
   "id": "5b89b85b-70d3-405e-b16b-11d0f98157ee",
   "metadata": {},
   "source": [
    "### Datasets Powering Data Science:\n",
    "#### What's a dataset?\n",
    "* collection of data\n",
    "* Data Structures:\n",
    "    * Tabular Data\n",
    "    * Hierarchical or Network Data:\n",
    "        * Tree like structure\n",
    "        * relational data \n",
    "    * Raw files\n",
    "    \n",
    "#### Data Ownership:\n",
    "* Private Data\n",
    "* Open Data\n",
    "\n",
    "#### Where to find open data?\n",
    "* Open data portal list from around the world:\n",
    "\n",
    "[datacatalogs]('http://datacatalogs.org/')\n",
    "\n",
    "[UNData]('http://data.un.org')\n",
    "    \n",
    "[USGovernment]('https//www.data.gov/')\n",
    "    \n",
    "[Euptope]('https://www.europeandataportal.eu/en/')\n",
    "   \n",
    "[Kaggle]('https://www.kaggle.com/datasets')\n",
    "\n",
    "[Google]('https://datasetsearch.google.com/')\n",
    "\n",
    "#### Community Data License Agreement:\n",
    "* Developed by linux\n",
    "\n",
    "[CDLA]('http://cdla.io')\n",
    "\n",
    "* CDLA-Sharing: \n",
    "    * permission to use and modify data\n",
    "    * publication only under same terms\n",
    "* CDLA-Permissive:\n",
    "    * Permission to use and modify data, no obligations\n",
    "    \n"
   ]
  },
  {
   "cell_type": "markdown",
   "id": "aad80b6c-1013-4661-87c5-06fdb98b79d5",
   "metadata": {},
   "source": [
    "### Sharing Enterprise Data:\n",
    "\n",
    "#### Data Asset eXchange \"DAX\":\n",
    "* Curated collection of datasets:\n",
    "    * From IBM Research and 3rd Party\n",
    "    * Multiple Application Domains\n",
    "* Data Science Friendly Licenses"
   ]
  },
  {
   "cell_type": "markdown",
   "id": "c3d26426-11a1-466b-beca-9ea6bd9b966d",
   "metadata": {},
   "source": [
    "### ML Models:\n",
    "#### What's a model?\n",
    "* identify patterns\n",
    "* Algorithms\n",
    "* By training your model\n",
    "* SupV Learning\n",
    "* UnSupV Learning\n",
    "* Reinforcementy Learning\n",
    "\n",
    "#### SupV Learning:\n",
    "* Data is lables\n",
    "* Model is trained on labeled data \n",
    "* Model Makes predictions \n",
    "* Accuracy and Precision are calculated \n",
    "* Solve Regression:\n",
    "    * predict real numerical values\n",
    "    * e.g. home sales prices, stock market prices\n",
    "* and Classification Problems:\n",
    "    * Classifying stuff into categories \n",
    "    * email spam filter, fraud detection, and image classification\n",
    "    \n",
    " \n",
    "#### UnSupV Learning:\n",
    "* Data isn't labeled\n",
    "* Model tries to identify patterns without external help\n",
    "* Clustering Models:\n",
    "    * providing purchase recommendations\n",
    "* Anomaly Detection:\n",
    "    * identifies outliers\n",
    "    \n",
    "#### Reinforcement Learning:\n",
    "* Conceptually similar to human learning processes\n",
    "* Robot Learning to Play GO and Chess\n",
    "\n",
    "#### Deep Learning:\n",
    "* Tries to loosely emulate how humans brian works.\n",
    "* Apps:\n",
    "    * NLP\n",
    "    * Image, Audio, Video Analyses\n",
    "    * Time Series Forecasting\n",
    "    * Much more\n",
    "    \n",
    "* Requires Large Datasets to train a model\n",
    "* Either build from scratch, or download from public model repositories\n",
    "* Built using:\n",
    "    * TensorFlow\n",
    "    * Keras\n",
    "    * PyTorch\n",
    "    \n",
    "* Popular Model Zoos:\n",
    "    * most framework\n",
    "    * ONNX model zoo\n",
    "\n",
    "#### Modeling Steps:\n",
    "* Prepare Data\n",
    "* Build a Model\n",
    "* Train Your Model\n",
    "* Iterate, Iterate, and Iterate\n",
    "\n",
    "* Deploy Model \n",
    "* Use Model"
   ]
  },
  {
   "cell_type": "markdown",
   "id": "6687c49c-3022-42c4-acc8-41cec76e9295",
   "metadata": {},
   "source": [
    "### The Model Asset Exchange:\n",
    "* Free Open Source DL \n",
    "* Use pretrained models or custom trainable models\n",
    "* Fully Trusted, deploy in minutes \n",
    "* Approved for personal and ccommercial use\n",
    "* Available for a variety of domains:\n",
    "    * Object detection\n",
    "    * Image, Audio, Video and text classification\n",
    "    * Named Entity recognition\n",
    "    * Image2Text translation\n",
    "    * Human Pose detection\n",
    "\n",
    "#### MAX Models:\n",
    "* Data --> Model [Code] --> Computer Resources --> Domain Expertise "
   ]
  },
  {
   "cell_type": "markdown",
   "id": "7a7e1d29-ea83-48c2-b639-a2a332e6efe0",
   "metadata": {},
   "source": [
    "## Week 2. Open Sources Tools:\n",
    ">In this module, you will learn about three popular tools used in data science: GitHub, Jupyter Notebooks, and RStudio IDE. You will become familiar with the features of each tool, and what makes these tools so popular among data scientists today."
   ]
  },
  {
   "cell_type": "markdown",
   "id": "d726cd9e-0c2d-43e5-95f2-6dee7f9ff629",
   "metadata": {},
   "source": [
    "### Jupyter:\n",
    "#### Notebook:\n",
    "* Mainly for Julia, Py, and R \n",
    "* Now it includes more language such as Swift"
   ]
  },
  {
   "cell_type": "code",
   "execution_count": 1,
   "id": "bc4e417d-120e-42d4-b6a8-6ebbc55c1452",
   "metadata": {},
   "outputs": [
    {
     "data": {
      "text/html": [
       "<div>\n",
       "<style scoped>\n",
       "    .dataframe tbody tr th:only-of-type {\n",
       "        vertical-align: middle;\n",
       "    }\n",
       "\n",
       "    .dataframe tbody tr th {\n",
       "        vertical-align: top;\n",
       "    }\n",
       "\n",
       "    .dataframe thead th {\n",
       "        text-align: right;\n",
       "    }\n",
       "</style>\n",
       "<table border=\"1\" class=\"dataframe\">\n",
       "  <thead>\n",
       "    <tr style=\"text-align: right;\">\n",
       "      <th></th>\n",
       "      <th>result</th>\n",
       "      <th>grade</th>\n",
       "    </tr>\n",
       "  </thead>\n",
       "  <tbody>\n",
       "    <tr>\n",
       "      <th>0</th>\n",
       "      <td>0.686813</td>\n",
       "      <td>good</td>\n",
       "    </tr>\n",
       "    <tr>\n",
       "      <th>1</th>\n",
       "      <td>0.423077</td>\n",
       "      <td>fail</td>\n",
       "    </tr>\n",
       "    <tr>\n",
       "      <th>2</th>\n",
       "      <td>0.467033</td>\n",
       "      <td>fail</td>\n",
       "    </tr>\n",
       "    <tr>\n",
       "      <th>3</th>\n",
       "      <td>0.906593</td>\n",
       "      <td>excellent</td>\n",
       "    </tr>\n",
       "    <tr>\n",
       "      <th>4</th>\n",
       "      <td>0.247253</td>\n",
       "      <td>fail</td>\n",
       "    </tr>\n",
       "    <tr>\n",
       "      <th>...</th>\n",
       "      <td>...</td>\n",
       "      <td>...</td>\n",
       "    </tr>\n",
       "    <tr>\n",
       "      <th>24995</th>\n",
       "      <td>0.670330</td>\n",
       "      <td>good</td>\n",
       "    </tr>\n",
       "    <tr>\n",
       "      <th>24996</th>\n",
       "      <td>0.417582</td>\n",
       "      <td>fail</td>\n",
       "    </tr>\n",
       "    <tr>\n",
       "      <th>24997</th>\n",
       "      <td>0.582418</td>\n",
       "      <td>pass</td>\n",
       "    </tr>\n",
       "    <tr>\n",
       "      <th>24998</th>\n",
       "      <td>0.428571</td>\n",
       "      <td>fail</td>\n",
       "    </tr>\n",
       "    <tr>\n",
       "      <th>24999</th>\n",
       "      <td>0.532967</td>\n",
       "      <td>pass</td>\n",
       "    </tr>\n",
       "  </tbody>\n",
       "</table>\n",
       "<p>25000 rows × 2 columns</p>\n",
       "</div>"
      ],
      "text/plain": [
       "         result      grade\n",
       "0      0.686813       good\n",
       "1      0.423077       fail\n",
       "2      0.467033       fail\n",
       "3      0.906593  excellent\n",
       "4      0.247253       fail\n",
       "...         ...        ...\n",
       "24995  0.670330       good\n",
       "24996  0.417582       fail\n",
       "24997  0.582418       pass\n",
       "24998  0.428571       fail\n",
       "24999  0.532967       pass\n",
       "\n",
       "[25000 rows x 2 columns]"
      ]
     },
     "execution_count": 1,
     "metadata": {},
     "output_type": "execute_result"
    }
   ],
   "source": [
    "import numpy as np\n",
    "import pandas as pd\n",
    "import matplotlib.pyplot as plt\n",
    "x = np.random.randint(40, 182, 25000)\n",
    "X = x/182\n",
    "X\n",
    "grade = pd.cut(X, [0, 0.5, 0.65, 0.75, 0.85, 1.0], labels = ['fail', 'pass', 'good', 'v.good', 'excellent'])\n",
    "grade\n",
    "class250 = pd.DataFrame({'result': X,\n",
    "                        'grade': grade})\n",
    "class250"
   ]
  },
  {
   "cell_type": "code",
   "execution_count": 2,
   "id": "dfa7297c-f248-4b11-8142-cf099d53f553",
   "metadata": {},
   "outputs": [
    {
     "data": {
      "text/plain": [
       "array([[<AxesSubplot: title={'center': 'result'}>]], dtype=object)"
      ]
     },
     "execution_count": 2,
     "metadata": {},
     "output_type": "execute_result"
    },
    {
     "data": {
      "image/png": "[encoded data removed]",
      "text/plain": [
       "<Figure size 640x480 with 1 Axes>"
      ]
     },
     "metadata": {},
     "output_type": "display_data"
    }
   ],
   "source": [
    "class250.hist()"
   ]
  },
  {
   "cell_type": "code",
   "execution_count": 3,
   "id": "e94ec739-0a7c-46ed-af9f-0671f5df4c9d",
   "metadata": {},
   "outputs": [
    {
     "data": {
      "text/plain": [
       "<AxesSubplot: >"
      ]
     },
     "execution_count": 3,
     "metadata": {},
     "output_type": "execute_result"
    },
    {
     "data": {
      "image/png": "[encoded data removed]",
      "text/plain": [
       "<Figure size 640x480 with 1 Axes>"
      ]
     },
     "metadata": {},
     "output_type": "display_data"
    }
   ],
   "source": [
    "class250['grade'].hist()"
   ]
  },
  {
   "cell_type": "markdown",
   "id": "b1185a29-fbf9-4a56-9e77-6cb3fb7cc0af",
   "metadata": {},
   "source": [
    "### Introduction to R and RStudio:\n",
    "* Packages not libraries "
   ]
  },
  {
   "cell_type": "code",
   "execution_count": null,
   "id": "7b1ed05f-ce0c-459c-8010-d366d49f6231",
   "metadata": {},
   "outputs": [],
   "source": []
  },
  {
   "cell_type": "markdown",
   "id": "35f9e555-5a71-4db0-b2b5-1e4226c24775",
   "metadata": {},
   "source": [
    "### Overview of GIT/GitHub:\n",
    "* Version Control Distribution System\n",
    "* Allows users around the globe to have all updates of your project veriosns\n",
    "\n",
    "#### SHORT Glossary of Terms:\n",
    "* **SSH Protocol**: A method for secure remote login from one computer to another \"Security/View Control\"\n",
    "* **Repository**: The folders of your project that are set up for version control\n",
    "* **Fork**: A copy of repository\n",
    "* **Pull Request**: The process you use to request someone reviews and approves your changes b4 they become final\n",
    "* **Working Directory**: A directory in your computer, file system including its files and subdirectories, that's associated with a git repository\n",
    "\n",
    "\n",
    "#### Basic Git Commands:\n",
    "* `init` to create a repository\n",
    "* `add` moves changes from a working directory to the staging area\n",
    "* `status` allows you to see the state from your working directory and the stage snapshots of your changes \n",
    "* `commit` gets the changes on your working version, and commits ythem to the project\n",
    "* `reset` undoes changes you made to the file\n",
    "* `log` allows you to browse previous changes to the project\n",
    "* `branch` creates a separate environment within your repository to make your changes \n",
    "* `checkout` lets you see and change existing brancjes \n",
    "* `merge` put all together"
   ]
  },
  {
   "cell_type": "markdown",
   "id": "10914efe-79ed-4992-93b8-7a32ffc1862b",
   "metadata": {},
   "source": [
    "### GitHub - Working with Branches:\n",
    ">Branching, Merging, and Pull Request on GitHub\n",
    "\n",
    "#### Create a Branch - What?\n",
    "* A snapshot of your repository where you can separately do changes \n",
    "* A copy of the master branch\n",
    "* Can be used to develop and test before merging back to the Master/main branch\n",
    "\n",
    "\n",
    "#### Master/main branch:\n",
    "* Is the one with the deployable codes and everything\n",
    "* Never to push any code to the master unless you test it in a child branch\n"
   ]
  },
  {
   "cell_type": "code",
   "execution_count": null,
   "id": "da1c24b5-82cf-4aa5-b3d7-a552beeeef58",
   "metadata": {},
   "outputs": [],
   "source": []
  },
  {
   "cell_type": "markdown",
   "id": "36077a6f-4896-49c3-9a0c-64265122dca2",
   "metadata": {},
   "source": [
    "## Week 3. IBM Watson Studio:\n",
    ">In this module, you will learn about an enterprise-ready data science platform by IBM, called Watson Studio. You'll learn about some of the features and capabilities of what data scientists use in the industry. You’ll also learn about other IBM tools used to support data science projects, such as IBM Watson Knowledge Catalog, Data Refinery, and the SPSS Modeler."
   ]
  },
  {
   "cell_type": "markdown",
   "id": "d7932ff3-157d-4b88-a0b7-da1b37f9c52b",
   "metadata": {},
   "source": [
    "### What's IBM Watson Studio?\n",
    "* IDE "
   ]
  },
  {
   "cell_type": "markdown",
   "id": "539d93cb-1615-4a44-98cc-880a10c01590",
   "metadata": {},
   "source": [
    "### Watson Studio Intro:\n",
    "* "
   ]
  },
  {
   "cell_type": "code",
   "execution_count": 2,
   "id": "f000c7c6-2753-4def-be96-786d1dbf3ad3",
   "metadata": {},
   "outputs": [
    {
     "data": {
      "text/plain": [
       "11"
      ]
     },
     "execution_count": 2,
     "metadata": {},
     "output_type": "execute_result"
    }
   ],
   "source": [
    "#hidden\n",
    "5 + 6"
   ]
  },
  {
   "cell_type": "markdown",
   "id": "cc42eb68-5148-4dc4-82b1-182ad643f9a8",
   "metadata": {},
   "source": [
    "### IBM Knowledge Catalog:\n",
    "* Looks Like Azure\n",
    "* Data Asset Management\n",
    "    * Data Management\n",
    "    * Data Integration and Transformation\n",
    "* Code Asset Management\n",
    "\n",
    "#### Main Features of the IBM KnCat:\n",
    "* Find Data\n",
    "* Catalog Data\n",
    "* Govern Data\n",
    "* Understand Data\n",
    "* Power Data Science\n",
    "* Prepare Data\n",
    "* Connect Data\n",
    "* Deploy Anywhere\n",
    ">Protect data from misuse, and enables the sharing of assets with automated, dynamic masking of sensitive data elements \n",
    "\n",
    ">Users can interactively discover, cleanse, and prepare data with built-in data refinary\n"
   ]
  }
 ],
 "metadata": {
  "kernelspec": {
   "display_name": "Python 3 (ipykernel)",
   "language": "python",
   "name": "python3"
  },
  "language_info": {
   "codemirror_mode": {
    "name": "ipython",
    "version": 3
   },
   "file_extension": ".py",
   "mimetype": "text/x-python",
   "name": "python",
   "nbconvert_exporter": "python",
   "pygments_lexer": "ipython3",
   "version": "3.11.0"
  },
  "toc-autonumbering": false,
  "toc-showmarkdowntxt": true
 },
 "nbformat": 4,
 "nbformat_minor": 5
}
