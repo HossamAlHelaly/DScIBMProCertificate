{
 "cells": [
  {
   "cell_type": "markdown",
   "id": "14d36232-c97e-4c64-a951-211e62ff0c0e",
   "metadata": {},
   "source": [
    "# Course 1: What's Data Science:"
   ]
  },
  {
   "cell_type": "markdown",
   "id": "aa85c877-a728-4f26-99a9-0e7f87075821",
   "metadata": {},
   "source": [
    "## Week 2. Big Data and Data Mining:"
   ]
  },
  {
   "cell_type": "markdown",
   "id": "5493652e-19ae-4d40-b3d4-78384ffe0921",
   "metadata": {},
   "source": [
    "### What's Big Data:\n",
    "* vast amount of data\n",
    "* Ernest and Young defines it as dynamic, large, and disparate amount of data being created by ppl, tools and machines\n",
    "* V's of Big Data:\n",
    "    * Velocity, the speed with which data accumelates\n",
    "    * Volume, the scale of data, increase of amount\n",
    "    * Variety, diversity of the data, reflects that data come from different sources\n",
    "    * Varacity, Quality and origin of data:\n",
    "    \n",
    "    | Attribute | Drivers |\n",
    "    | :--: | :--: |\n",
    "    | Consistency | Cost |\n",
    "    | Completeness | Need for traceability |\n",
    "    | Integrity |\n",
    "    | Ambeguity | \n",
    "    \n",
    "    * Value, ability and need to turn data into value and benefits \n",
    "* Alternative Tools:\n",
    "    * Apache Spark amd Hadoop.\n",
    "    "
   ]
  },
  {
   "cell_type": "markdown",
   "id": "141a4c14-b16d-419e-bd86-24519517e4c4",
   "metadata": {},
   "source": [
    "### What's Hadoop?\n",
    "* Slicing the data into pieces\n",
    "* Sending those pieces into thousands of computers\n",
    "* Where each computer will analyze its part and send its part of analysis into a system where those results will be sorted and handled together in away that allows to get the big picture"
   ]
  },
  {
   "cell_type": "markdown",
   "id": "c23ef475-4bed-4136-9435-4594c9e11bed",
   "metadata": {},
   "source": [
    "## Week 3. Data Science in Business:\n",
    ">In this module, you will learn about the approaches companies can take to start working with data science. You will learn about some of the qualities that differentiate data scientists from other professionals. You will also learn about analytics, story-telling, and the pivotal role data scientists play in creating an effective final deliverable. Finally, you will apply what you learned about data science by answering open-ended questions."
   ]
  },
  {
   "cell_type": "markdown",
   "id": "4da18aa1-af5c-47be-88f2-1b7424b0e8a8",
   "metadata": {},
   "source": [
    "### How DS is saving lives:\n",
    "* In Medicine:\n",
    "    * Detecting best way of curing a patient\n",
    "    * Providing Medicare officials with required info and latest knowledge sources \n",
    "* In Natural Events Occurences:\n",
    "    * Predicting Earthquakes and forest fires "
   ]
  },
  {
   "cell_type": "markdown",
   "id": "cdf44936-3318-4120-8fd4-19b3a916baba",
   "metadata": {},
   "source": [
    "### Apps of DS:"
   ]
  },
  {
   "cell_type": "markdown",
   "id": "c4f2c05e-94db-4137-9d04-e2c44c9f6b90",
   "metadata": {},
   "source": [
    "### Careers and Recruiting in DS:\n",
    "\n",
    "* In this lesson, you have learned:\n",
    "\n",
    "    * Data Scientists need programming, mathematics, and database skills, many of which can be gained through self-learning.\n",
    "    * Companies recruiting for a Data Science team need to understand the variety of different roles Data Scientists can play, and look for soft skills like storytelling and relationship building as well as technical skills.\n",
    "    * High school students considering a career in Data Science should learn programming, math, databases, and, most importantly practice their skills."
   ]
  },
  {
   "cell_type": "code",
   "execution_count": null,
   "id": "646d0fe0-9f1a-482b-80a9-cc49dbe80774",
   "metadata": {},
   "outputs": [],
   "source": []
  }
 ],
 "metadata": {
  "kernelspec": {
   "display_name": "Python 3 (ipykernel)",
   "language": "python",
   "name": "python3"
  },
  "language_info": {
   "codemirror_mode": {
    "name": "ipython",
    "version": 3
   },
   "file_extension": ".py",
   "mimetype": "text/x-python",
   "name": "python",
   "nbconvert_exporter": "python",
   "pygments_lexer": "ipython3",
   "version": "3.10.8"
  }
 },
 "nbformat": 4,
 "nbformat_minor": 5
}
